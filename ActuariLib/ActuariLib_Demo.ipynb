{
 "cells": [
  {
   "cell_type": "code",
   "execution_count": 2,
   "metadata": {
    "collapsed": true
   },
   "outputs": [],
   "source": [
    "import pandas as pd\n",
    "import InputVariables, Premium\n",
    "import csv\n",
    "import RunConfig\n",
    "import Projection\n",
    "import PortfolioProjection\n",
    "import Reserve\n",
    "import SimpleTerm\n",
    "import matplotlib.pyplot as plt"
   ]
  },
  {
   "cell_type": "code",
   "execution_count": 3,
   "metadata": {
    "collapsed": true
   },
   "outputs": [],
   "source": [
    "Portfolio = []\n",
    "with open('MP.csv', 'r') as f:\n",
    "    reader = csv.reader(f)\n",
    "    for row in reader:\n",
    "        Portfolio.append(InputVariables.Policy(product = row[0],\n",
    "                                             age_at_entry = int(row[1]),\n",
    "                                             sex = int(row[2]),   # 1 male , 0 female\n",
    "                                             entry_year = int(row[3]),\n",
    "                                             entry_month = int(row[4]),\n",
    "                                             pol_term_y = int(row[5]),\n",
    "                                             annual_prem = float(row[6]),\n",
    "                                             prem_paybl = int(row[7]),\n",
    "                                             prem_freq = int(row[8]),\n",
    "                                             sum_assured = float(row[9]),\n",
    "                                             pols_if = float(row[10]), \n",
    "                                             init_comm = float(row[11]), \n",
    "                                             ren_comm = float(row[12]) ))\n"
   ]
  },
  {
   "cell_type": "code",
   "execution_count": 4,
   "metadata": {},
   "outputs": [
    {
     "data": {
      "text/plain": [
       "0.05"
      ]
     },
     "execution_count": 4,
     "metadata": {},
     "output_type": "execute_result"
    }
   ],
   "source": [
    "Portfolio[0].ren_comm"
   ]
  },
  {
   "cell_type": "code",
   "execution_count": 5,
   "metadata": {},
   "outputs": [
    {
     "name": "stdout",
     "output_type": "stream",
     "text": [
      "MortTb1.csv\n",
      "Mortality_tb [24][1] =  0.00026\n"
     ]
    }
   ],
   "source": [
    "Global = RunConfig.Global(mortality_tb = 'MortTb1.csv')\n",
    "RunConfig =  RunConfig.RunConfig(proj_start_yr = 2019, proj_start_mth = 1, proj_term = 36)\n",
    "\n",
    "print(\"Mortality_tb [24][1] = \", Global.mortality_tb[24][1])"
   ]
  },
  {
   "cell_type": "code",
   "execution_count": 6,
   "metadata": {
    "collapsed": true
   },
   "outputs": [],
   "source": [
    "Inputs = InputVariables.Inputs(policy_tb = Portfolio, Global = Global)"
   ]
  },
  {
   "cell_type": "code",
   "execution_count": 7,
   "metadata": {
    "collapsed": true
   },
   "outputs": [],
   "source": [
    "ProjectionPP = Projection.ProjectionPP(Policy = Portfolio[0], RunConfig = RunConfig, Global = Global)\n",
    "ProjectionPP.run()"
   ]
  },
  {
   "cell_type": "code",
   "execution_count": 12,
   "metadata": {},
   "outputs": [
    {
     "data": {
      "text/plain": [
       "array([ 6.        ,  5.39856   ,  4.85740835,  4.37050173,  3.93240264,\n",
       "        3.5382186 ,  3.18354757,  2.86442876,  2.57729842,  2.31895003,\n",
       "        2.08649848,  1.87734787,  1.68916252,  1.6042821 ,  1.52366693,\n",
       "        1.44710266,  1.37438575,  1.30532287,  1.2397304 ,  1.17743394,\n",
       "        1.11826789,  1.06207493,  1.00870566,  0.9580182 ,  0.90987779,\n",
       "        0.88234489,  0.85564513,  0.82975331,  0.80464497,  0.78029642,\n",
       "        0.75668465,  0.73378737,  0.71158296,  0.69005046,  0.66916954,\n",
       "        0.64892047])"
      ]
     },
     "execution_count": 12,
     "metadata": {},
     "output_type": "execute_result"
    }
   ],
   "source": [
    "ProjectionPP.polsIF_bop"
   ]
  },
  {
   "cell_type": "code",
   "execution_count": 10,
   "metadata": {},
   "outputs": [
    {
     "data": {
      "text/plain": [
       "array([ 0.00144   ,  0.00129565,  0.00116578,  0.00104892,  0.00094378,\n",
       "        0.00084917,  0.00076405,  0.00068746,  0.00061855,  0.00055655,\n",
       "        0.00050076,  0.00045056,  0.00042229,  0.00040107,  0.00038092,\n",
       "        0.00036178,  0.0003436 ,  0.00032633,  0.00030993,  0.00029436,\n",
       "        0.00027957,  0.00026552,  0.00025218,  0.0002395 ,  0.00023657,\n",
       "        0.00022941,  0.00022247,  0.00021574,  0.00020921,  0.00020288,\n",
       "        0.00019674,  0.00019078,  0.00018501,  0.00017941,  0.00017398,\n",
       "        0.00016872])"
      ]
     },
     "execution_count": 10,
     "metadata": {},
     "output_type": "execute_result"
    }
   ],
   "source": [
    "ProjectionPP.mort_vec"
   ]
  },
  {
   "cell_type": "code",
   "execution_count": 7,
   "metadata": {
    "collapsed": true
   },
   "outputs": [],
   "source": [
    "PortfolioProjection = PortfolioProjection.PortfolioProjection(policy_tb = Portfolio, RunConfig = RunConfig, Global = Global)\n",
    "PortfolioProjection.runPortfolio()"
   ]
  },
  {
   "cell_type": "markdown",
   "metadata": {},
   "source": [
    "## Plot CashFlows:"
   ]
  },
  {
   "cell_type": "code",
   "execution_count": 8,
   "metadata": {},
   "outputs": [
    {
     "name": "stdout",
     "output_type": "stream",
     "text": [
      "    premium_cf_agg  benefit_SURR_agg  benefit_Death_agg  exp_init_agg  \\\n",
      "0     5.200000e+06    -262000.000000      -62400.000000     -104000.0   \n",
      "1     1.367635e+06    -172154.080000      -56145.024000          -0.0   \n",
      "2     1.230543e+06    -130070.601254      -50517.046794          -0.0   \n",
      "3     1.689927e+06    -120917.214614      -45453.218024          -0.0   \n",
      "4     1.468097e+06     -86075.924438      -40896.987449          -0.0   \n",
      "5     8.963487e+05     -87669.194169      -36797.473427          -0.0   \n",
      "6     1.740339e+06     -88078.149337      -33108.894691          -0.0   \n",
      "7     7.256553e+05     -62699.162822      -29790.059087          -0.0   \n",
      "8     9.621914e+05     -58705.130669      -26803.903564          -0.0   \n",
      "9     8.966607e+05     -40968.117127      -24117.080271          -0.0   \n",
      "10    5.285796e+05     -12287.157689      -21699.584144          -0.0   \n",
      "11    4.755948e+05     -46516.508291      -19524.417830          -0.0   \n",
      "12    1.463941e+06     -36880.048308      -18299.260611          -0.0   \n",
      "13    4.064181e+05     -25579.386839      -17379.722765          -0.0   \n",
      "14    3.859956e+05     -20400.207173      -16506.391696          -0.0   \n",
      "15    5.595464e+05     -20018.253502      -15676.945514          -0.0   \n",
      "16    5.131040e+05     -15041.888530      -14889.179002          -0.0   \n",
      "17    3.306818e+05     -16171.499999      -14140.997757          -0.0   \n",
      "18    6.777193e+05     -17149.603806      -13430.412619          -0.0   \n",
      "19    2.982833e+05     -12886.360379      -12755.534385          -0.0   \n",
      "20    4.174867e+05     -12735.828720      -12114.568782          -0.0   \n",
      "21    4.106690e+05      -9381.661849      -11505.811701          -0.0   \n",
      "22    2.555388e+05      -2970.077780      -10927.644663          -0.0   \n",
      "23    2.426979e+05     -11868.781055      -10378.530519          -0.0   \n",
      "24    7.885607e+05     -11919.399011      -10251.289735          -0.0   \n",
      "25    2.235274e+05      -8441.099402       -9941.085707          -0.0   \n",
      "26    2.167634e+05      -6873.682537       -9640.268454          -0.0   \n",
      "27    3.208379e+05      -6886.952452       -9348.553930          -0.0   \n",
      "28    3.004008e+05      -5283.835318       -9065.666688          -0.0   \n",
      "29    1.976751e+05      -5800.203355       -8791.339614          -0.0   \n",
      "30    4.136543e+05      -6280.482561       -8525.313678          -0.0   \n",
      "31    1.858928e+05      -4818.537054       -8267.337686          -0.0   \n",
      "32    2.656576e+05      -4862.483579       -8017.168047          -0.0   \n",
      "33    2.668195e+05      -3657.267450       -7774.568542          -0.0   \n",
      "34    1.695229e+05      -1182.199512       -7539.310098          -0.0   \n",
      "35    1.643932e+05      -4823.642125       -7311.170575          -0.0   \n",
      "\n",
      "    exp_maint_agg  \n",
      "0       -0.000000  \n",
      "1    -3898.960000  \n",
      "2    -3508.128250  \n",
      "3    -3156.473474  \n",
      "4    -2840.068573  \n",
      "5    -2555.380099  \n",
      "6    -2299.228798  \n",
      "7    -2068.754103  \n",
      "8    -1861.382192  \n",
      "9    -1674.797241  \n",
      "10   -1506.915566  \n",
      "11   -1355.862349  \n",
      "12   -1219.950707  \n",
      "13   -1158.648184  \n",
      "14   -1100.426113  \n",
      "15   -1045.129701  \n",
      "16    -992.611933  \n",
      "17    -942.733184  \n",
      "18    -895.360841  \n",
      "19    -850.368959  \n",
      "20    -807.637919  \n",
      "21    -767.054113  \n",
      "22    -728.509644  \n",
      "23    -691.902035  \n",
      "24    -657.133957  \n",
      "25    -637.249084  \n",
      "26    -617.965927  \n",
      "27    -599.266278  \n",
      "28    -581.132480  \n",
      "29    -563.547411  \n",
      "30    -546.494467  \n",
      "31    -529.957544  \n",
      "32    -513.921029  \n",
      "33    -498.369778  \n",
      "34    -483.289109  \n",
      "35    -468.664780  \n"
     ]
    }
   ],
   "source": [
    "data = {'NetCashflows': PortfolioProjection.net_insur_CF}\n",
    "\n",
    "fields = ['premium_cf_agg',\n",
    "        'benefit_SURR_agg',\n",
    "        'benefit_Death_agg', \n",
    "        'exp_init_agg', \n",
    "        'exp_maint_agg']\n",
    "\n",
    "df = pd.DataFrame({fn: getattr(PortfolioProjection, fn) for fn in fields}, columns = fields)\n",
    "df[fields[1:]] = df[fields[1:]].mul(-1)   # Change outflows to negatives\n",
    "print(df)\n",
    "\n",
    "\n"
   ]
  },
  {
   "cell_type": "code",
   "execution_count": 9,
   "metadata": {},
   "outputs": [
    {
     "data": {
      "image/png": "[encoded data removed]",
      "text/plain": [
       "<matplotlib.figure.Figure at 0x108766438>"
      ]
     },
     "metadata": {},
     "output_type": "display_data"
    }
   ],
   "source": [
    "ax = pd.DataFrame(data).plot.line(marker='o', color='r')\n",
    "df.plot(kind='bar', stacked=True, ax=ax, title=' Cashflows')\n",
    "plt.show()"
   ]
  },
  {
   "cell_type": "code",
   "execution_count": null,
   "metadata": {
    "collapsed": true
   },
   "outputs": [],
   "source": []
  }
 ],
 "metadata": {
  "kernelspec": {
   "display_name": "Python 3",
   "language": "python",
   "name": "python3"
  },
  "language_info": {
   "codemirror_mode": {
    "name": "ipython",
    "version": 3
   },
   "file_extension": ".py",
   "mimetype": "text/x-python",
   "name": "python",
   "nbconvert_exporter": "python",
   "pygments_lexer": "ipython3",
   "version": "3.6.3"
  }
 },
 "nbformat": 4,
 "nbformat_minor": 2
}
